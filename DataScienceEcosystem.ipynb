{
 "cells": [
  {
   "cell_type": "markdown",
   "id": "196e753b-dda0-4ce4-b3ff-13ec4d670beb",
   "metadata": {},
   "source": [
    "# Data Science Tools And Ecosystem\n"
   ]
  },
  {
   "cell_type": "markdown",
   "id": "a9c22b3b-2668-46c1-83b3-96ec35ff2efb",
   "metadata": {},
   "source": [
    "In this notebook, Data Science Tools and Ecosystem are summarized."
   ]
  },
  {
   "cell_type": "markdown",
   "id": "103b8670-12a2-4129-b2cc-107564c57473",
   "metadata": {},
   "source": [
    "Some of the popular languages that Data Scientists use are:\n",
    "1. python\n",
    "2. R\n",
    "3. java\n",
    "4. SQL\n",
    "   \n"
   ]
  },
  {
   "cell_type": "markdown",
   "id": "40f80f8f-0d6a-41b4-8a45-26d9f6618d79",
   "metadata": {},
   "source": [
    "Some of the commonly used libraries used by Data Scientists include:\n",
    "1. Pandas\n",
    "2. Numpy\n",
    "3. matplotlib\n",
    "4. scikitlearn\n",
    "5. seaborn\n",
    "6. pytorch"
   ]
  },
  {
   "cell_type": "markdown",
   "id": "12dd0987-13b8-4a4b-aaf3-af4a15337d83",
   "metadata": {},
   "source": [
    "## Data Science Tools\n",
    "1. jupyter notebook\n",
    "2. Rstudio\n",
    "3. spyder"
   ]
  },
  {
   "cell_type": "markdown",
   "id": "c98d14fc-bbf6-4f51-b953-040bc32f18d0",
   "metadata": {},
   "source": [
    "### Below are a few examples of evaluating arithmetic expressions in Python\n",
    "\n"
   ]
  },
  {
   "cell_type": "code",
   "execution_count": 3,
   "id": "662d0d20-5917-42e7-a33e-9ad9eaeb26c0",
   "metadata": {},
   "outputs": [
    {
     "data": {
      "text/plain": [
       "17"
      ]
     },
     "execution_count": 3,
     "metadata": {},
     "output_type": "execute_result"
    }
   ],
   "source": [
    "(3*4)+5"
   ]
  },
  {
   "cell_type": "code",
   "execution_count": 4,
   "id": "1f71dfc5-6c84-4246-9883-53b9ce2ab18e",
   "metadata": {},
   "outputs": [
    {
     "data": {
      "text/plain": [
       "33.333333333333336"
      ]
     },
     "execution_count": 4,
     "metadata": {},
     "output_type": "execute_result"
    }
   ],
   "source": [
    "#This will convert 200 minutes to hours by diving by 60\n",
    "200/6\n"
   ]
  },
  {
   "cell_type": "markdown",
   "id": "f7bfa3f0-da92-45d3-91f6-b72bb81bf219",
   "metadata": {},
   "source": [
    "**objective**:\n",
    "1. list of pupular python languages\n",
    "2. list of popular libraries used by data scientis\n",
    "3. list of popular data science tools\n",
    "4. examples of evaluating arithmetic expressions in Python"
   ]
  },
  {
   "cell_type": "markdown",
   "id": "2132f506-506c-4afe-a393-db7db47a6e78",
   "metadata": {},
   "source": [
    "## Author:\n",
    "kunal pogere"
   ]
  }
 ],
 "metadata": {
  "kernelspec": {
   "display_name": "Python 3 (ipykernel)",
   "language": "python",
   "name": "python3"
  },
  "language_info": {
   "codemirror_mode": {
    "name": "ipython",
    "version": 3
   },
   "file_extension": ".py",
   "mimetype": "text/x-python",
   "name": "python",
   "nbconvert_exporter": "python",
   "pygments_lexer": "ipython3",
   "version": "3.11.9"
  }
 },
 "nbformat": 4,
 "nbformat_minor": 5
}
